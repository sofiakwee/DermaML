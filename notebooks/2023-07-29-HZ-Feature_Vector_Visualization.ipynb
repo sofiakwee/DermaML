{
 "cells": [
  {
   "cell_type": "code",
   "execution_count": null,
   "metadata": {},
   "outputs": [],
   "source": [
    "import tensorflow as tf\n",
    "from tensorflow.keras.applications import VGG16\n",
    "from tensorflow.keras.preprocessing import image\n",
    "from tensorflow.keras.applications.vgg16 import preprocess_input\n",
    "import numpy as np\n",
    "import matplotlib.pyplot as plt\n",
    "\n",
    "model = VGG16(weights='imagenet', include_top=False)"
   ]
  },
  {
   "cell_type": "code",
   "execution_count": null,
   "metadata": {},
   "outputs": [],
   "source": [
    "image_path = \"/Applications/DermaML/5A7E3A5F-334A-4C8D-9E0D-BD435389C81E.jpeg\"\n",
    "img = image.load_img(image_path, target_size=(224, 224))\n",
    "x = image.img_to_array(img)\n",
    "x = np.expand_dims(x, axis=0)\n",
    "x = preprocess_input(x)"
   ]
  },
  {
   "cell_type": "code",
   "execution_count": null,
   "metadata": {},
   "outputs": [],
   "source": [
    "layer_names = ['block1_conv1', 'block2_conv1', 'block3_conv1', 'block4_conv1', 'block5_conv1']\n",
    "outputs = [model.get_layer(layer_name).output for layer_name in layer_names]\n",
    "\n",
    "# Create a new model that extracts feature maps from intermediate layers\n",
    "activation_model = tf.keras.models.Model(inputs=model.input, outputs=outputs)"
   ]
  },
  {
   "cell_type": "code",
   "execution_count": null,
   "metadata": {},
   "outputs": [],
   "source": [
    "feature_maps = activation_model.predict(x)"
   ]
  },
  {
   "cell_type": "code",
   "execution_count": null,
   "metadata": {},
   "outputs": [],
   "source": [
    "for layer_name, feature_map in zip(layer_names, feature_maps):\n",
    "    num_features = min(feature_map.shape[-1], 64)\n",
    "    plt.figure(figsize=(8, 8))\n",
    "    for i in range(num_features):\n",
    "        plt.subplot(8, 8, i+1)\n",
    "        plt.imshow(feature_map[0, :, :, i], cmap='viridis')\n",
    "        plt.axis('off')\n",
    "    plt.suptitle(layer_name)\n",
    "    plt.show()"
   ]
  },
  {
   "cell_type": "code",
   "execution_count": null,
   "metadata": {},
   "outputs": [],
   "source": [
    "from tensorflow.keras.applications.vgg16 import VGG16, preprocess_input as vgg_preprocess_input\n",
    "from sklearn.manifold import TSNE\n",
    "\n",
    "# Load the VGG16 model with pre-trained weights\n",
    "model = VGG16(include_top=False, weights='imagenet')\n",
    "# Alternatively, you can use ResNet50\n",
    "# model = ResNet50(include_top=False, weights='imagenet')\n",
    "\n",
    "# Load and preprocess the input image\n",
    "image_path = \"/Applications/DermaML/5A7E3A5F-334A-4C8D-9E0D-BD435389C81E.jpeg\"\n",
    "img = image.load_img(image_path, target_size=(224, 224))\n",
    "x = image.img_to_array(img)\n",
    "x = np.expand_dims(x, axis=0)\n",
    "x = vgg_preprocess_input(x)  # or resnet_preprocess_input(x) for ResNet50"
   ]
  },
  {
   "cell_type": "code",
   "execution_count": null,
   "metadata": {},
   "outputs": [],
   "source": [
    "features = model.predict(x)\n",
    "feature_vector = features.reshape((features.shape[0], -1))"
   ]
  },
  {
   "cell_type": "code",
   "execution_count": null,
   "metadata": {},
   "outputs": [],
   "source": [
    "tsne = TSNE(n_components=2, perplexity=0, random_state=42)\n",
    "reduced_features = tsne.fit_transform(feature_vector)"
   ]
  },
  {
   "cell_type": "code",
   "execution_count": null,
   "metadata": {},
   "outputs": [],
   "source": [
    "plt.scatter(reduced_features[:, 0], reduced_features[:, 1], c='b', marker='o', label='Image')\n",
    "plt.legend()\n",
    "plt.title('t-SNE Visualization of Feature Vectors')\n",
    "plt.show()"
   ]
  }
 ],
 "metadata": {
  "kernelspec": {
   "display_name": "dermaml-FwaJfN4Y-py3.11",
   "language": "python",
   "name": "python3"
  },
  "language_info": {
   "codemirror_mode": {
    "name": "ipython",
    "version": 3
   },
   "file_extension": ".py",
   "mimetype": "text/x-python",
   "name": "python",
   "nbconvert_exporter": "python",
   "pygments_lexer": "ipython3",
   "version": "3.11.3"
  },
  "orig_nbformat": 4
 },
 "nbformat": 4,
 "nbformat_minor": 2
}
