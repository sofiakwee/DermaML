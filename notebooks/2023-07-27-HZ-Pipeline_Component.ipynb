{
 "cells": [
  {
   "attachments": {},
   "cell_type": "markdown",
   "metadata": {},
   "source": [
    "## Data Processing Functions"
   ]
  },
  {
   "attachments": {},
   "cell_type": "markdown",
   "metadata": {},
   "source": [
    "#### `remove_bg`"
   ]
  },
  {
   "cell_type": "code",
   "execution_count": 187,
   "metadata": {},
   "outputs": [],
   "source": [
    "# --- Imports\n",
    "\n",
    "# from rembg import remove\n",
    "# from PIL import Image\n",
    "# import numpy as np\n",
    "\n",
    "# --- Function\n",
    "\n",
    "def remove_bg(im):  \n",
    "    image = Image.open(im)\n",
    "    output = remove(image)\n",
    "    return np.array(output)\n",
    "    #output.show()"
   ]
  },
  {
   "cell_type": "code",
   "execution_count": 188,
   "metadata": {},
   "outputs": [],
   "source": [
    "# --- Unit Tests\n",
    "\n",
    "# Exercise functionality\n",
    "remove_1 = remove_bg('/Applications/DermaML/5A7E3A5F-334A-4C8D-9E0D-BD435389C81E.jpeg')\n"
   ]
  },
  {
   "attachments": {},
   "cell_type": "markdown",
   "metadata": {},
   "source": [
    "#### `hand_outline`"
   ]
  },
  {
   "cell_type": "code",
   "execution_count": 217,
   "metadata": {},
   "outputs": [],
   "source": [
    "# --- Imports\n",
    "\n",
    "# import cv2\n",
    "# import glob\n",
    "# import torch\n",
    "# import numpy as np\n",
    "# from PIL import Image\n",
    "# from matplotlib import pyplot as plt\n",
    "\n",
    "# --- Function\n",
    " \n",
    "def hand_outline(im):\n",
    "\n",
    "    gray = cv2.cvtColor(im, cv2.COLOR_BGR2GRAY)\n",
    "\n",
    "    # Apply edge detection to find the border\n",
    "    edges = cv2.Canny(gray, 0,30)\n",
    "\n",
    "    # Dilate the edges to connect any gaps\n",
    "    dilated_edges = cv2.dilate(edges, None, iterations=5)\n",
    "\n",
    "    # dilated_ims.append(dilated_edges)\n",
    "\n",
    "    gray = cv2.cvtColor(dilated_edges, cv2.COLOR_GRAY2BGR)\n",
    "\n",
    "    # Define the lower and upper thresholds for purple and yellow intensities\n",
    "    lower_purple = 100\n",
    "    upper_purple = 150\n",
    "    lower_yellow = 160\n",
    "    upper_yellow = 210\n",
    "\n",
    "    # Create masks for purple and yellow intensities\n",
    "    purple_mask = cv2.inRange(gray, lower_purple, upper_purple)\n",
    "    yellow_mask = cv2.inRange(gray, lower_yellow, upper_yellow)\n",
    "\n",
    "    # Find contours for purple and yellow regions\n",
    "    if cv2.__version__.startswith('4'):\n",
    "        contours, _ = cv2.findContours(purple_mask, cv2.RETR_EXTERNAL, cv2.CHAIN_APPROX_SIMPLE)\n",
    "        purple_contours = contours\n",
    "        contours, _ = cv2.findContours(yellow_mask, cv2.RETR_EXTERNAL, cv2.CHAIN_APPROX_SIMPLE)\n",
    "        yellow_contours = contours\n",
    "    else:\n",
    "        _, purple_contours, _ = cv2.findContours(purple_mask, cv2.RETR_EXTERNAL, cv2.CHAIN_APPROX_SIMPLE)\n",
    "        _, yellow_contours, _ = cv2.findContours(yellow_mask, cv2.RETR_EXTERNAL, cv2.CHAIN_APPROX_SIMPLE)\n",
    "\n",
    "    # Draw the contours on the image\n",
    "    cv2.drawContours(gray, purple_contours, -1, (255, 0, 0), thickness=2)\n",
    "    cv2.drawContours(gray, yellow_contours, -1, (0, 255, 255), thickness=2)\n",
    "\n",
    "    # Find the centroids of the contours\n",
    "    if len(purple_contours) > 0:\n",
    "        purple_centroid = np.mean([c[0] for c in purple_contours], axis=0)\n",
    "        purple_centroid = purple_centroid.astype(int)\n",
    "    if len(yellow_contours) > 0:\n",
    "        yellow_centroid = np.mean([c[0] for c in yellow_contours], axis=0)\n",
    "        yellow_centroid = yellow_centroid.astype(int)\n",
    "\n",
    "    # Draw a line connecting the centroids\n",
    "    if len(purple_contours) > 0 and len(yellow_contours) > 0:\n",
    "        cv2.line(gray, tuple(purple_centroid), tuple(yellow_centroid), (0, 255, 0), thickness=2)\n",
    "\n",
    "    plt.imshow(gray)\n",
    "\n",
    "    return gray"
   ]
  },
  {
   "cell_type": "code",
   "execution_count": 218,
   "metadata": {},
   "outputs": [
    {
     "data": {
      "image/png": "[encoded data removed]",
      "text/plain": [
       "<Figure size 640x480 with 1 Axes>"
      ]
     },
     "metadata": {},
     "output_type": "display_data"
    }
   ],
   "source": [
    "# --- Unit Tests\n",
    "\n",
    "# Exercise functionality\n",
    "outline_1 = hand_outline(remove_1)"
   ]
  },
  {
   "attachments": {},
   "cell_type": "markdown",
   "metadata": {},
   "source": [
    "#### `vgg16`"
   ]
  },
  {
   "cell_type": "code",
   "execution_count": 241,
   "metadata": {},
   "outputs": [],
   "source": [
    "# --- Imports\n",
    "\n",
    "from tensorflow.keras.applications.vgg16 import VGG16\n",
    "\n",
    "# --- Function\n",
    "\n",
    "vg_model = VGG16(weights='imagenet', include_top=False)\n",
    "\n",
    "# Load and preprocess the image\n",
    "def vgg16(im):\n",
    "    x = image.img_to_array(im)\n",
    "    x = np.expand_dims(x, axis=0)\n",
    "    x = preprocess_input(x)\n",
    "\n",
    "    # Extract features from the image\n",
    "    vg_features = vg_model.predict(x)\n",
    "\n",
    "    # Flatten or pool the features\n",
    "    vg_flattened_features = vg_features.flatten()\n",
    "\n",
    "    # Normalize the feature vector\n",
    "    vg_normalized_features = vg_flattened_features / np.linalg.norm(vg_flattened_features)\n",
    "\n",
    "    print(vg_normalized_features.shape)"
   ]
  },
  {
   "cell_type": "code",
   "execution_count": 242,
   "metadata": {},
   "outputs": [
    {
     "name": "stdout",
     "output_type": "stream",
     "text": [
      "1/1 [==============================] - 18s 18s/step\n",
      "(6064128,)\n"
     ]
    }
   ],
   "source": [
    "# --- Unit Tests\n",
    "\n",
    "# Exercise functionality\n",
    "vgg16(outline_1)"
   ]
  }
 ],
 "metadata": {
  "kernelspec": {
   "display_name": "dermaml-FwaJfN4Y-py3.11",
   "language": "python",
   "name": "python3"
  },
  "language_info": {
   "codemirror_mode": {
    "name": "ipython",
    "version": 3
   },
   "file_extension": ".py",
   "mimetype": "text/x-python",
   "name": "python",
   "nbconvert_exporter": "python",
   "pygments_lexer": "ipython3",
   "version": "3.11.3"
  },
  "orig_nbformat": 4
 },
 "nbformat": 4,
 "nbformat_minor": 2
}
