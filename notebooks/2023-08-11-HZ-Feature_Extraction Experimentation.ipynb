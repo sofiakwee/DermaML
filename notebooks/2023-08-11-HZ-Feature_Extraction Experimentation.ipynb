{
 "cells": [
  {
   "attachments": {},
   "cell_type": "markdown",
   "metadata": {},
   "source": [
    "### Gray-Level Co-Occurrence Matrix"
   ]
  },
  {
   "cell_type": "code",
   "execution_count": 56,
   "metadata": {},
   "outputs": [],
   "source": [
    "import os\n",
    "import cv2\n",
    "import glob\n",
    "import torch\n",
    "from torchvision import transforms\n",
    "import numpy as np\n",
    "from PIL import Image\n",
    "from matplotlib import pyplot as plt\n",
    "from skimage.io import imread\n",
    "from skimage import io\n",
    "from skimage.color import rgb2gray\n",
    "import imageio\n",
    "import skimage\n",
    "from scipy import ndimage\n",
    "import pandas as pd\n",
    "import matplotlib as mpl\n",
    "from skimage import feature\n",
    "from rembg import remove\n",
    "from scipy import ndimage as ndi\n",
    "from skimage.util import img_as_float\n",
    "from skimage.filters import gabor_kernel\n",
    "from skimage.filters import gabor\n",
    "from numpy import asarray"
   ]
  },
  {
   "attachments": {},
   "cell_type": "markdown",
   "metadata": {},
   "source": [
    "#### `remove_bg`"
   ]
  },
  {
   "cell_type": "code",
   "execution_count": 24,
   "metadata": {},
   "outputs": [],
   "source": [
    "def remove_bg(im):  \n",
    "    image = Image.open(im)\n",
    "    output = remove(image)\n",
    "    return np.array(output)\n",
    "    #output.show()"
   ]
  },
  {
   "cell_type": "code",
   "execution_count": 3,
   "metadata": {},
   "outputs": [],
   "source": [
    "remove_1 = remove_bg('/Applications/DermaML/5A7E3A5F-334A-4C8D-9E0D-BD435389C81E.jpeg')"
   ]
  },
  {
   "cell_type": "code",
   "execution_count": 111,
   "metadata": {},
   "outputs": [],
   "source": [
    "cropped_1 = cv2.imread('/Applications/DermaML/Screenshot 2023-08-21 at 5.51.03 PM.png')"
   ]
  },
  {
   "attachments": {},
   "cell_type": "markdown",
   "metadata": {},
   "source": [
    "Image Cropping"
   ]
  },
  {
   "cell_type": "code",
   "execution_count": 117,
   "metadata": {},
   "outputs": [],
   "source": [
    "# Setting the points for cropped image\n",
    "remove_1_crop = Image.fromarray(remove_1)\n",
    "\n",
    "left = 155\n",
    "top = 65\n",
    "right = 450\n",
    "bottom = 200\n",
    " \n",
    "# Cropped image of above dimension\n",
    "# (It will not change original image)\n",
    "im1 = remove_1_crop.crop((left, top, right, bottom))\n",
    " \n",
    "# Shows the image in image viewer\n",
    "im1.show()"
   ]
  },
  {
   "attachments": {},
   "cell_type": "markdown",
   "metadata": {},
   "source": [
    "#### `generate_im`"
   ]
  },
  {
   "cell_type": "code",
   "execution_count": 92,
   "metadata": {},
   "outputs": [],
   "source": [
    "def generate_im(energy):\n",
    "\n",
    "    # Generate a random grayscale image\n",
    "    image = np.random.randint(0, 256, size=(5,5), dtype=np.uint8)\n",
    "    \n",
    "    # Calculate the co-occurrence matrix for the image\n",
    "    co_matrix = skimage.feature.graycomatrix(image, [5], [0], levels=256, symmetric=True, normed=True)\n",
    "    \n",
    "    # Calculate the energy of the co-occurrence matrix\n",
    "    calculated_energy = np.sum(co_matrix**2)\n",
    "    \n",
    "    # Adjust the image until the calculated energy matches the desired energy\n",
    "    while abs(calculated_energy - energy) > 0.0001:\n",
    "        image = np.random.randint(0, 256, size=(5,5), dtype=np.uint8)\n",
    "        co_matrix = skimage.feature.graycomatrix(image, [5], [0], levels=256, symmetric=True, normed=True)\n",
    "        calculated_energy = np.sum(co_matrix**2)\n",
    "    \n",
    "    return image"
   ]
  },
  {
   "cell_type": "code",
   "execution_count": 101,
   "metadata": {},
   "outputs": [
    {
     "ename": "KeyboardInterrupt",
     "evalue": "",
     "output_type": "error",
     "traceback": [
      "\u001b[0;31m---------------------------------------------------------------------------\u001b[0m",
      "\u001b[0;31mKeyboardInterrupt\u001b[0m                         Traceback (most recent call last)",
      "Cell \u001b[0;32mIn[101], line 1\u001b[0m\n\u001b[0;32m----> 1\u001b[0m generated_image \u001b[39m=\u001b[39m generate_im(\u001b[39m0.0002\u001b[39;49m)\n\u001b[1;32m      2\u001b[0m bgr_image \u001b[39m=\u001b[39m cv2\u001b[39m.\u001b[39mcvtColor(generated_image, cv2\u001b[39m.\u001b[39mCOLOR_GRAY2BGR)\n\u001b[1;32m      3\u001b[0m plt\u001b[39m.\u001b[39mimshow(bgr_image)\n",
      "Cell \u001b[0;32mIn[92], line 15\u001b[0m, in \u001b[0;36mgenerate_im\u001b[0;34m(energy)\u001b[0m\n\u001b[1;32m     13\u001b[0m \u001b[39mwhile\u001b[39;00m \u001b[39mabs\u001b[39m(calculated_energy \u001b[39m-\u001b[39m energy) \u001b[39m>\u001b[39m \u001b[39m0.0001\u001b[39m:\n\u001b[1;32m     14\u001b[0m     image \u001b[39m=\u001b[39m np\u001b[39m.\u001b[39mrandom\u001b[39m.\u001b[39mrandint(\u001b[39m0\u001b[39m, \u001b[39m256\u001b[39m, size\u001b[39m=\u001b[39m(\u001b[39m5\u001b[39m,\u001b[39m5\u001b[39m), dtype\u001b[39m=\u001b[39mnp\u001b[39m.\u001b[39muint8)\n\u001b[0;32m---> 15\u001b[0m     co_matrix \u001b[39m=\u001b[39m skimage\u001b[39m.\u001b[39;49mfeature\u001b[39m.\u001b[39;49mgraycomatrix(image, [\u001b[39m5\u001b[39;49m], [\u001b[39m0\u001b[39;49m], levels\u001b[39m=\u001b[39;49m\u001b[39m256\u001b[39;49m, symmetric\u001b[39m=\u001b[39;49m\u001b[39mTrue\u001b[39;49;00m, normed\u001b[39m=\u001b[39;49m\u001b[39mTrue\u001b[39;49;00m)\n\u001b[1;32m     16\u001b[0m     calculated_energy \u001b[39m=\u001b[39m np\u001b[39m.\u001b[39msum(co_matrix\u001b[39m*\u001b[39m\u001b[39m*\u001b[39m\u001b[39m2\u001b[39m)\n\u001b[1;32m     18\u001b[0m \u001b[39mreturn\u001b[39;00m image\n",
      "File \u001b[0;32m~/Library/Caches/pypoetry/virtualenvs/dermaml-FwaJfN4Y-py3.11/lib/python3.11/site-packages/skimage/feature/texture.py:151\u001b[0m, in \u001b[0;36mgraycomatrix\u001b[0;34m(image, distances, angles, levels, symmetric, normed)\u001b[0m\n\u001b[1;32m    149\u001b[0m \u001b[39m# normalize each GLCM\u001b[39;00m\n\u001b[1;32m    150\u001b[0m \u001b[39mif\u001b[39;00m normed:\n\u001b[0;32m--> 151\u001b[0m     P \u001b[39m=\u001b[39m P\u001b[39m.\u001b[39mastype(np\u001b[39m.\u001b[39mfloat64)\n\u001b[1;32m    152\u001b[0m     glcm_sums \u001b[39m=\u001b[39m np\u001b[39m.\u001b[39msum(P, axis\u001b[39m=\u001b[39m(\u001b[39m0\u001b[39m, \u001b[39m1\u001b[39m), keepdims\u001b[39m=\u001b[39m\u001b[39mTrue\u001b[39;00m)\n\u001b[1;32m    153\u001b[0m     glcm_sums[glcm_sums \u001b[39m==\u001b[39m \u001b[39m0\u001b[39m] \u001b[39m=\u001b[39m \u001b[39m1\u001b[39m\n",
      "\u001b[0;31mKeyboardInterrupt\u001b[0m: "
     ]
    }
   ],
   "source": [
    "generated_image = generate_im(0.0002)\n",
    "bgr_image = cv2.cvtColor(generated_image, cv2.COLOR_GRAY2BGR)\n",
    "plt.imshow(bgr_image)\n",
    "plt.axis('off')\n",
    "plt.show()"
   ]
  },
  {
   "cell_type": "code",
   "execution_count": 97,
   "metadata": {},
   "outputs": [
    {
     "name": "stdout",
     "output_type": "stream",
     "text": [
      "[array([[  3, 134, 196,  62,  96],\n",
      "       [190, 193,   8, 217, 231],\n",
      "       [ 26,  75, 117, 212, 183],\n",
      "       [213, 129, 249,  88, 134],\n",
      "       [239, 218, 161, 155, 119]], dtype=uint8)]\n"
     ]
    }
   ],
   "source": [
    "print(generated_list)"
   ]
  },
  {
   "attachments": {},
   "cell_type": "markdown",
   "metadata": {},
   "source": [
    "#### `co_occurrence_matrix`"
   ]
  },
  {
   "cell_type": "code",
   "execution_count": 98,
   "metadata": {},
   "outputs": [],
   "source": [
    "\n",
    "def co_occurrence_matrix(im):\n",
    "    arr = np.array(im)\n",
    "    opencvim = cv2.cvtColor(arr, cv2.COLOR_BGR2GRAY)\n",
    "\n",
    "    # Calculate the co-occurrence matrix for the image\n",
    "    co_matrix = skimage.feature.graycomatrix(opencvim, [5], [0], levels=256, symmetric=True, normed=True)\n",
    "\n",
    "# Calculate texture features from the co-occurrence matrix\n",
    "    contrast = skimage.feature.graycoprops(co_matrix, 'contrast')\n",
    "    correlation = skimage.feature.graycoprops(co_matrix, 'correlation')\n",
    "    energy = skimage.feature.graycoprops(co_matrix, 'energy')\n",
    "    homogeneity = skimage.feature.graycoprops(co_matrix, 'homogeneity')\n",
    "    \n",
    "\n",
    "# Print the texture features\n",
    "    print(\"Contrast:\", contrast)\n",
    "    print(\"Correlation:\", correlation)\n",
    "    print(\"Energy:\", energy)\n",
    "    print(\"Homogeneity:\", homogeneity)\n",
    "\n",
    "    return co_matrix"
   ]
  },
  {
   "cell_type": "code",
   "execution_count": 38,
   "metadata": {},
   "outputs": [
    {
     "name": "stdout",
     "output_type": "stream",
     "text": [
      "Contrast: [[28.19986268]]\n",
      "Correlation: [[0.99717429]]\n",
      "Energy: [[0.70846676]]\n",
      "Homogeneity: [[0.76487431]]\n"
     ]
    }
   ],
   "source": [
    "co_occurrence_matrix_1 = co_occurrence_matrix(remove_1)\n",
    "\n",
    "# type(co_occurrence_matrix_1)\n",
    "\n",
    "# print(co_occurrence_matrix_1)"
   ]
  },
  {
   "cell_type": "code",
   "execution_count": 82,
   "metadata": {},
   "outputs": [
    {
     "name": "stdout",
     "output_type": "stream",
     "text": [
      "Contrast: [[28.71927756]]\n",
      "Correlation: [[0.776583]]\n",
      "Energy: [[0.05040238]]\n",
      "Homogeneity: [[0.21273176]]\n"
     ]
    }
   ],
   "source": [
    "co_occurrence_matrix_2 = co_occurrence_matrix(cropped_1)"
   ]
  },
  {
   "cell_type": "code",
   "execution_count": 100,
   "metadata": {},
   "outputs": [
    {
     "name": "stdout",
     "output_type": "stream",
     "text": [
      "Contrast: [[0.]]\n",
      "Correlation: [[1.]]\n",
      "Energy: [[0.]]\n",
      "Homogeneity: [[0.]]\n"
     ]
    }
   ],
   "source": [
    "co_occurrence_matrix_2 = co_occurrence_matrix(bgr_image)"
   ]
  }
 ],
 "metadata": {
  "kernelspec": {
   "display_name": "dermaml-FwaJfN4Y-py3.11",
   "language": "python",
   "name": "python3"
  },
  "language_info": {
   "codemirror_mode": {
    "name": "ipython",
    "version": 3
   },
   "file_extension": ".py",
   "mimetype": "text/x-python",
   "name": "python",
   "nbconvert_exporter": "python",
   "pygments_lexer": "ipython3",
   "version": "3.11.3"
  },
  "orig_nbformat": 4
 },
 "nbformat": 4,
 "nbformat_minor": 2
}
