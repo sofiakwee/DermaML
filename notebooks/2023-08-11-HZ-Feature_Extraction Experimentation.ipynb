{
 "cells": [
  {
   "attachments": {},
   "cell_type": "markdown",
   "metadata": {},
   "source": [
    "### Gray-Level Co-Occurrence Matrix"
   ]
  },
  {
   "cell_type": "code",
   "execution_count": 4,
   "metadata": {},
   "outputs": [],
   "source": [
    "import os\n",
    "import cv2\n",
    "import glob\n",
    "import torch\n",
    "from torchvision import transforms\n",
    "import numpy as np\n",
    "from PIL import Image\n",
    "from matplotlib import pyplot as plt\n",
    "from skimage.io import imread\n",
    "from skimage import io\n",
    "from skimage.color import rgb2gray\n",
    "import imageio\n",
    "import skimage\n",
    "from scipy import ndimage\n",
    "import pandas as pd\n",
    "import matplotlib as mpl\n",
    "from skimage import feature\n",
    "from rembg import remove\n",
    "from scipy import ndimage as ndi\n",
    "from skimage.util import img_as_float\n",
    "from skimage.filters import gabor_kernel\n",
    "from skimage.filters import gabor\n",
    "from numpy import asarray"
   ]
  },
  {
   "attachments": {},
   "cell_type": "markdown",
   "metadata": {},
   "source": [
    "#### `remove_bg`"
   ]
  },
  {
   "cell_type": "code",
   "execution_count": 13,
   "metadata": {},
   "outputs": [],
   "source": [
    "def remove_bg(im):  \n",
    "    image = Image.open(im)\n",
    "    output = remove(image)\n",
    "    return np.array(output)\n",
    "    #output.show()"
   ]
  },
  {
   "cell_type": "code",
   "execution_count": 14,
   "metadata": {},
   "outputs": [],
   "source": [
    "remove_1 = remove_bg('/Applications/DermaML/5A7E3A5F-334A-4C8D-9E0D-BD435389C81E.jpeg')"
   ]
  },
  {
   "attachments": {},
   "cell_type": "markdown",
   "metadata": {},
   "source": [
    "#### `co_occurrence_matrix`"
   ]
  },
  {
   "cell_type": "code",
   "execution_count": 17,
   "metadata": {},
   "outputs": [],
   "source": [
    "\n",
    "def co_occurrence_matrix(im):\n",
    "    arr = np.array(im)\n",
    "    opencvim = cv2.cvtColor(arr, cv2.COLOR_BGR2GRAY)\n",
    "\n",
    "    # Calculate the co-occurrence matrix for the image\n",
    "    co_matrix = skimage.feature.graycomatrix(opencvim, [5], [0], levels=256, symmetric=True, normed=True)\n",
    "\n",
    "# Calculate texture features from the co-occurrence matrix\n",
    "    contrast = skimage.feature.graycoprops(co_matrix, 'contrast')\n",
    "    correlation = skimage.feature.graycoprops(co_matrix, 'correlation')\n",
    "    energy = skimage.feature.graycoprops(co_matrix, 'energy')\n",
    "    homogeneity = skimage.feature.graycoprops(co_matrix, 'homogeneity')\n",
    "\n",
    "# Print the texture features\n",
    "    print(\"Contrast:\", contrast)\n",
    "    print(\"Correlation:\", correlation)\n",
    "    print(\"Energy:\", energy)\n",
    "    print(\"Homogeneity:\", homogeneity)"
   ]
  },
  {
   "cell_type": "code",
   "execution_count": 18,
   "metadata": {},
   "outputs": [
    {
     "name": "stdout",
     "output_type": "stream",
     "text": [
      "Contrast: [[28.19986268]]\n",
      "Correlation: [[0.99717429]]\n",
      "Energy: [[0.70846676]]\n",
      "Homogeneity: [[0.76487431]]\n"
     ]
    }
   ],
   "source": [
    "co_occurrence_matrix_1 = co_occurrence_matrix(remove_1)"
   ]
  }
 ],
 "metadata": {
  "kernelspec": {
   "display_name": "dermaml-FwaJfN4Y-py3.11",
   "language": "python",
   "name": "python3"
  },
  "language_info": {
   "codemirror_mode": {
    "name": "ipython",
    "version": 3
   },
   "file_extension": ".py",
   "mimetype": "text/x-python",
   "name": "python",
   "nbconvert_exporter": "python",
   "pygments_lexer": "ipython3",
   "version": "3.11.3"
  },
  "orig_nbformat": 4
 },
 "nbformat": 4,
 "nbformat_minor": 2
}
