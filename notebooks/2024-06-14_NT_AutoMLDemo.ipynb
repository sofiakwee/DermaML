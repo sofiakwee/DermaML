{
 "cells": [
  {
   "cell_type": "markdown",
   "metadata": {},
   "source": [
    "## 2024 06/14 AutoML test\n",
    "\n",
    "*Last Updated*: 2024-06-14\n",
    "\n",
    "### Authors\n",
    "* Nicole Tin (...)\n",
    "\n",
    "\n",
    "### Overview\n",
    "This Jupyter notebook is intended to demonstrate\n",
    "\n",
    "* A...\n",
    "\n",
    "\n",
    "### Key Results\n",
    "\n",
    "- E..."
   ]
  },
  {
   "cell_type": "code",
   "execution_count": null,
   "metadata": {},
   "outputs": [],
   "source": [
    "# --- Imports\n",
    "\n",
    "# External packages\n",
    "import hub\n",
    "from pycaret import regression\n",
    "import os\n",
    "import cv2\n",
    "from dermaml import data\n",
    "from dermaml import features\n",
    "# import PIL\n",
    "# from PIL import Image\n",
    "# import numpy as np\n",
    "# import mlflow\n",
    "# import matplotlib.pyplot as plt\n",
    "import pandas as pd\n",
    "# import skimage\n"
   ]
  },
  {
   "cell_type": "code",
   "execution_count": null,
   "metadata": {},
   "outputs": [],
   "source": [
    "# Dataset\n",
    "dataset_name = \"11khands\"\n",
    "\n",
    "# AutoML\n",
    "experiment_name = \"11khands-automl-sample-test_NT\"\n",
    "num_best_models = 5\n",
    "random_seed = 42"
   ]
  },
  {
   "cell_type": "code",
   "execution_count": null,
   "metadata": {},
   "outputs": [],
   "source": [
    "# Images\n",
    "ds = hub.load('hub://activeloop/11k-hands')\n",
    "images = ds.images"
   ]
  }
 ],
 "metadata": {
  "language_info": {
   "name": "python"
  },
  "orig_nbformat": 4
 },
 "nbformat": 4,
 "nbformat_minor": 2
}
